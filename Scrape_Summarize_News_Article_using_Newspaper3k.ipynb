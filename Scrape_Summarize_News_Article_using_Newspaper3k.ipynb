{
  "nbformat": 4,
  "nbformat_minor": 0,
  "metadata": {
    "colab": {
      "name": "Scrape_Summarize_News_Article_using_Newspaper3k.ipynb",
      "provenance": [],
      "collapsed_sections": []
    },
    "kernelspec": {
      "name": "python3",
      "display_name": "Python 3"
    }
  },
  "cells": [
    {
      "cell_type": "code",
      "metadata": {
        "id": "yaUtkrpBAioO",
        "colab_type": "code",
        "colab": {
          "base_uri": "https://localhost:8080/",
          "height": 407
        },
        "outputId": "4f8280fe-f39b-4484-8b55-9e7c32811196"
      },
      "source": [
        "!pip install newspaper3k"
      ],
      "execution_count": 151,
      "outputs": [
        {
          "output_type": "stream",
          "text": [
            "Requirement already satisfied: newspaper3k in /usr/local/lib/python3.6/dist-packages (0.2.8)\n",
            "Requirement already satisfied: tinysegmenter==0.3 in /usr/local/lib/python3.6/dist-packages (from newspaper3k) (0.3)\n",
            "Requirement already satisfied: tldextract>=2.0.1 in /usr/local/lib/python3.6/dist-packages (from newspaper3k) (2.2.2)\n",
            "Requirement already satisfied: lxml>=3.6.0 in /usr/local/lib/python3.6/dist-packages (from newspaper3k) (4.2.6)\n",
            "Requirement already satisfied: python-dateutil>=2.5.3 in /usr/local/lib/python3.6/dist-packages (from newspaper3k) (2.8.1)\n",
            "Requirement already satisfied: Pillow>=3.3.0 in /usr/local/lib/python3.6/dist-packages (from newspaper3k) (7.0.0)\n",
            "Requirement already satisfied: PyYAML>=3.11 in /usr/local/lib/python3.6/dist-packages (from newspaper3k) (3.13)\n",
            "Requirement already satisfied: feedparser>=5.2.1 in /usr/local/lib/python3.6/dist-packages (from newspaper3k) (5.2.1)\n",
            "Requirement already satisfied: jieba3k>=0.35.1 in /usr/local/lib/python3.6/dist-packages (from newspaper3k) (0.35.1)\n",
            "Requirement already satisfied: beautifulsoup4>=4.4.1 in /usr/local/lib/python3.6/dist-packages (from newspaper3k) (4.6.3)\n",
            "Requirement already satisfied: cssselect>=0.9.2 in /usr/local/lib/python3.6/dist-packages (from newspaper3k) (1.1.0)\n",
            "Requirement already satisfied: nltk>=3.2.1 in /usr/local/lib/python3.6/dist-packages (from newspaper3k) (3.2.5)\n",
            "Requirement already satisfied: feedfinder2>=0.0.4 in /usr/local/lib/python3.6/dist-packages (from newspaper3k) (0.0.4)\n",
            "Requirement already satisfied: requests>=2.10.0 in /usr/local/lib/python3.6/dist-packages (from newspaper3k) (2.23.0)\n",
            "Requirement already satisfied: idna in /usr/local/lib/python3.6/dist-packages (from tldextract>=2.0.1->newspaper3k) (2.9)\n",
            "Requirement already satisfied: setuptools in /usr/local/lib/python3.6/dist-packages (from tldextract>=2.0.1->newspaper3k) (47.1.1)\n",
            "Requirement already satisfied: requests-file>=1.4 in /usr/local/lib/python3.6/dist-packages (from tldextract>=2.0.1->newspaper3k) (1.5.1)\n",
            "Requirement already satisfied: six>=1.5 in /usr/local/lib/python3.6/dist-packages (from python-dateutil>=2.5.3->newspaper3k) (1.12.0)\n",
            "Requirement already satisfied: chardet<4,>=3.0.2 in /usr/local/lib/python3.6/dist-packages (from requests>=2.10.0->newspaper3k) (3.0.4)\n",
            "Requirement already satisfied: certifi>=2017.4.17 in /usr/local/lib/python3.6/dist-packages (from requests>=2.10.0->newspaper3k) (2020.4.5.1)\n",
            "Requirement already satisfied: urllib3!=1.25.0,!=1.25.1,<1.26,>=1.21.1 in /usr/local/lib/python3.6/dist-packages (from requests>=2.10.0->newspaper3k) (1.24.3)\n"
          ],
          "name": "stdout"
        }
      ]
    },
    {
      "cell_type": "code",
      "metadata": {
        "id": "XtmvGtKj-HfW",
        "colab_type": "code",
        "colab": {
          "base_uri": "https://localhost:8080/",
          "height": 35
        },
        "outputId": "26f621e1-5867-410e-e7c6-4b216fb0f832"
      },
      "source": [
        "!pip install lxml"
      ],
      "execution_count": 152,
      "outputs": [
        {
          "output_type": "stream",
          "text": [
            "Requirement already satisfied: lxml in /usr/local/lib/python3.6/dist-packages (4.2.6)\n"
          ],
          "name": "stdout"
        }
      ]
    },
    {
      "cell_type": "code",
      "metadata": {
        "id": "8LbhLpOSAOes",
        "colab_type": "code",
        "colab": {
          "base_uri": "https://localhost:8080/",
          "height": 35
        },
        "outputId": "6d5c7809-b018-47b0-90f5-32b3402e2fa0"
      },
      "source": [
        "!pip install Pillow"
      ],
      "execution_count": 153,
      "outputs": [
        {
          "output_type": "stream",
          "text": [
            "Requirement already satisfied: Pillow in /usr/local/lib/python3.6/dist-packages (7.0.0)\n"
          ],
          "name": "stdout"
        }
      ]
    },
    {
      "cell_type": "code",
      "metadata": {
        "id": "weVgRxCjASIU",
        "colab_type": "code",
        "colab": {
          "base_uri": "https://localhost:8080/",
          "height": 439
        },
        "outputId": "ff5efcb9-4bf0-4e28-cd2c-3a72746342a1"
      },
      "source": [
        "!curl https://raw.githubusercontent.com/codelucas/newspaper/master/download_corpora.py | python"
      ],
      "execution_count": 154,
      "outputs": [
        {
          "output_type": "stream",
          "text": [
            "  % Total    % Received % Xferd  Average Speed   Time    Time     Time  Current\n",
            "                                 Dload  Upload   Total   Spent    Left  Speed\n",
            "\r  0     0    0     0    0     0      0      0 --:--:-- --:--:-- --:--:--     0\r  0     0    0     0    0     0      0      0 --:--:-- --:--:-- --:--:--     0\r100   657  100   657    0     0   3070      0 --:--:-- --:--:-- --:--:--  3055\n",
            "Downloading \"brown\"\n",
            "[nltk_data] Downloading package brown to /root/nltk_data...\n",
            "[nltk_data]   Package brown is already up-to-date!\n",
            "Downloading \"punkt\"\n",
            "[nltk_data] Downloading package punkt to /root/nltk_data...\n",
            "[nltk_data]   Package punkt is already up-to-date!\n",
            "Downloading \"maxent_treebank_pos_tagger\"\n",
            "[nltk_data] Downloading package maxent_treebank_pos_tagger to\n",
            "[nltk_data]     /root/nltk_data...\n",
            "[nltk_data]   Package maxent_treebank_pos_tagger is already up-to-\n",
            "[nltk_data]       date!\n",
            "Downloading \"movie_reviews\"\n",
            "[nltk_data] Downloading package movie_reviews to /root/nltk_data...\n",
            "[nltk_data]   Package movie_reviews is already up-to-date!\n",
            "Downloading \"wordnet\"\n",
            "[nltk_data] Downloading package wordnet to /root/nltk_data...\n",
            "[nltk_data]   Package wordnet is already up-to-date!\n",
            "Downloading \"stopwords\"\n",
            "[nltk_data] Downloading package stopwords to /root/nltk_data...\n",
            "[nltk_data]   Package stopwords is already up-to-date!\n",
            "Finished.\n"
          ],
          "name": "stdout"
        }
      ]
    },
    {
      "cell_type": "code",
      "metadata": {
        "id": "ajSFUIC7BJea",
        "colab_type": "code",
        "colab": {}
      },
      "source": [
        "from newspaper import Article"
      ],
      "execution_count": 0,
      "outputs": []
    },
    {
      "cell_type": "code",
      "metadata": {
        "id": "9TpdwHoYBuWj",
        "colab_type": "code",
        "colab": {}
      },
      "source": [
        "article = Article('https://www.technologynetworks.com/neuroscience/articles/merging-with-machines-a-look-at-emerging-neuroscience-technologies-324859')"
      ],
      "execution_count": 0,
      "outputs": []
    },
    {
      "cell_type": "code",
      "metadata": {
        "id": "99XPsQhBCCop",
        "colab_type": "code",
        "colab": {}
      },
      "source": [
        "article.download()"
      ],
      "execution_count": 0,
      "outputs": []
    },
    {
      "cell_type": "code",
      "metadata": {
        "id": "x7M7o4OnCEUH",
        "colab_type": "code",
        "colab": {}
      },
      "source": [
        "article.parse()"
      ],
      "execution_count": 0,
      "outputs": []
    },
    {
      "cell_type": "code",
      "metadata": {
        "id": "pCv77wR4CG3w",
        "colab_type": "code",
        "colab": {}
      },
      "source": [
        "article.nlp()"
      ],
      "execution_count": 0,
      "outputs": []
    },
    {
      "cell_type": "code",
      "metadata": {
        "id": "2B8LjPJUCIci",
        "colab_type": "code",
        "colab": {
          "base_uri": "https://localhost:8080/",
          "height": 35
        },
        "outputId": "e05081c9-6d71-4328-d849-e8c6bcac0d82"
      },
      "source": [
        "article.authors"
      ],
      "execution_count": 170,
      "outputs": [
        {
          "output_type": "execute_result",
          "data": {
            "text/plain": [
              "[]"
            ]
          },
          "metadata": {
            "tags": []
          },
          "execution_count": 170
        }
      ]
    },
    {
      "cell_type": "code",
      "metadata": {
        "id": "pAeioKoaCLne",
        "colab_type": "code",
        "colab": {}
      },
      "source": [
        "article.publish_date"
      ],
      "execution_count": 0,
      "outputs": []
    },
    {
      "cell_type": "code",
      "metadata": {
        "id": "YtLKBPUjCPsv",
        "colab_type": "code",
        "colab": {
          "base_uri": "https://localhost:8080/",
          "height": 299
        },
        "outputId": "83a3d102-fc1e-4333-acb7-a4e81d7a3752"
      },
      "source": [
        "article.keywords"
      ],
      "execution_count": 172,
      "outputs": [
        {
          "output_type": "execute_result",
          "data": {
            "text/plain": [
              "['technologies',\n",
              " 'brain',\n",
              " 'reward',\n",
              " 'fnirs',\n",
              " 'bmis',\n",
              " 'neuroscience',\n",
              " 'lühmann',\n",
              " 'emerging',\n",
              " 'wearable',\n",
              " 'eeg',\n",
              " 'using',\n",
              " 'von',\n",
              " 'look',\n",
              " 'machines',\n",
              " 'merging',\n",
              " 'learning']"
            ]
          },
          "metadata": {
            "tags": []
          },
          "execution_count": 172
        }
      ]
    },
    {
      "cell_type": "code",
      "metadata": {
        "id": "imgv-G_gCRzq",
        "colab_type": "code",
        "colab": {
          "base_uri": "https://localhost:8080/",
          "height": 1000
        },
        "outputId": "d6ad924e-b8cc-45eb-b16a-15d6dd681eb4"
      },
      "source": [
        "print(article.text)"
      ],
      "execution_count": 173,
      "outputs": [
        {
          "output_type": "stream",
          "text": [
            "Read Time:\n",
            "\n",
            "We are already cyborgs.” – Elon Musk\n",
            "\n",
            "\n",
            "\n",
            "Billionaire entrepreneur and technophile Elon Musk is just one of the prominent futurists echoing the sentiment that we are on the verge of a full merger with machines. “It’s increasingly hard to tell where I end and where the computer begins,” states historian, professor, and New York Times bestselling author Yuval Noah Harari at his keynote address at the\n",
            "\n",
            "Fast Company European Innovation Festival\n",
            "\n",
            ". “In the future, it is likely that the smartphone will not be separated from you at all. It may be embedded in our body or brain, constantly scanning your biometric data and your emotions.”\n",
            "\n",
            "\n",
            "\n",
            "Multiphoton Microscopy eBook Confocal microscopy has remained the gold standard technique for imaging both fixed and living samples for many years. Nevertheless, it has limitations, particularly in terms of how deep it can image inside a sample. Download this eBook to discover more about MPM, including how it works and how it provides solutions to challenges in microscopy. View eBook Sponsored Content\n",
            "\n",
            "You can now control a computer or robotic limb with your thoughts. This is possible thanks to advancements in brain-machine interfaces (BMIs), which translate neuronal information into computer commands.\n",
            "\n",
            "\n",
            "\n",
            "Although interest in BMIs has exploded in large part because of Musk’s secretive Neuralink project, research in this area started decades ago when UCLA professor Jacques Vidal posed the “BMI challenge” in 1973 – to control a graphical object using EEG signals. In 1977, he met his own challenge by using noninvasive EEG to move a cursor-like object through a maze on a computer screen.\n",
            "\n",
            "\n",
            "\n",
            "\n",
            "\n",
            "Elon Musk's Neuralink project has brought BMIs into the public consciousness, despite having no peer-reviewed publications behind it. Credit: Neuralink\n",
            "\n",
            "\n",
            "\n",
            "\n",
            "\n",
            "Fast forward to 2019, where BMIs now can sense what we want using information associated with reward expectation. In the lab of Joe Francis, Professor of Biomedical Engineering at the University of Houston, they are hard at work improving this technology.\n",
            "\n",
            "\n",
            "\n",
            "“We have moved from simple reward/no-reward cases to much more complex environments with multiple levels of reward and even punishment,” says Francis.\n",
            "\n",
            "\n",
            "\n",
            "Referring to one of their papers published last year, Francis reports that they “have found that reward expectation changes the motor representation of movement and of BMI control.” To illustrate, he gave me the example that if you were to reach for an ice cream cone vs. some garbage while connected to the BMI, it would record significantly different neural activity in these two situations, even though the movement is the same.\n",
            "\n",
            "\n",
            "\n",
            "“The findings will be used for developing an autonomously updating and rapidly adaptive learning machine for BMIs to improve performance via reinforcement learning algorithms,” adds Junmo An, Research Assistant Professor at the University of Houston and a former postdoctoral researcher collaborating with Francis.\n",
            "\n",
            "\n",
            "\n",
            "Utilizing reinforcement learning principles, the BMI can predict whether the user wants to reach for an object that delivers a rewarding outcome with extreme precision. This is because of the many ways reward expectation changes the electrical representation of movement in the primary motor cortex. “We developed near-perfect accurate classifiers (up to 97% classification accuracy) to predict reward outcome using the integrated features of power spectral density, of the local field potentials, and spike-field coherence,” says An.\n",
            "\n",
            "\n",
            "\n",
            "How might this technology be used? In addition to helping paralyzed patients interact with the environment, Francis is optimistic about developing BMIs that “track the user’s psychological state towards therapy and behavioral modification.” In psychology, learning through reward and punishment, known as operant conditioning, is one of the three major kinds of learning. It’s possible that the new BMIs will take advantage of this learning modality to help us develop healthier habits and make better decisions.\n",
            "\n",
            "\n",
            "\n",
            "An takes this concept to the next level by portraying a future where BMIs endow us with superhuman abilities and intelligence. “In the short run, BMIs could control home appliances (e.g., computers, cellphones, TVs, indoor lighting, etc.) and any kinds of machines and robots as well as playing video games. In the long run, people could learn rapidly any kinds of skills and abilities as [easily] as just downloading skill knowledge from the Internet as shown in science fiction movies, for example, The Matrix”.\n",
            "\n",
            "\n",
            "\n",
            "\n",
            "\n",
            "Is The Matrix a look into the (distant) future of BMIs? Source: http://discovermagazine.com/~/media/Images/Issues/2013/March/matrix-2.jpg\n",
            "\n",
            "Machines that record your brain without your awareness\n",
            "\n",
            "Every moment of our life, our brains are producing biosignals that correspond with what we are thinking and how we are feeling. Until recently, neuroscientists have only been able to track these signals in artificial laboratory settings. But recent advances in unobtrusive wearable neurotechnologies are changing all that.\n",
            "\n",
            "\n",
            "\n",
            "By tracking real-time recordings of the brain’s biosignals and combining that with synchronous recordings of what you are seeing and hearing, the new wearables will tell us more than we have ever known about how the human brain works in the real world. The potential applications are as wide as the imagination. For example, such devices could let us actively monitor our performance in work settings and feed that information to BMIs that adaptively tailor custom solutions to improve performance.\n",
            "\n",
            "\n",
            "\n",
            "A team at the Neurophotonics Center at Boston University is one of several driving this movement, and they are solving some of the major challenges of taking neuroscience from the controlled laboratory to the noisy real world. Lying at the interface between optics and neuroscience, neurophotonics involves using light to peer inside the living brain.\n",
            "\n",
            "\n",
            "\n",
            "Alexander von Lühmann, a postdoctoral researcher collaborating with David Boas, the founding director of the Neurophotonics Center and world leader in the field of neurophotonics, explains that in the last five years, there has been a great surge in interest in developing wearable neurotechnologies and getting them outside the lab, but one major challenge is how to detect clear signals in all the noise of everyday life. “There’s an increase in studies that are trying to get these technologies outside of the lab. There’s a lot of challenges to address, not only on the instrumentation side but also on the signal processing, artifact rejection, and signal analysis part,” says von Lühmann. von Lühmann is tackling this challenge by integrating functional near-infrared spectroscopy (fNIRS) and electroencephalogram (EEG) into wearable equipment.\n",
            "\n",
            "\n",
            "\n",
            "EEG has the advantage of relatively precise temporal measurements because it measures the brain’s immediate electrical activity whereas fNIRS measures the oxygen levels of blood in the brain, which is delayed by a few seconds. But fNIRS has the upper hand in terms of spatial accuracy, and it is more robust to several measurement artifacts. “EEG picks up a lot of electrophysiological noise, eye movements, neck muscles, etc.,” von Lühmann explains. “With fNIRS you don’t have that kind of interference … there’s still some interference, we can tackle that.” By combining the technologies in one device, they can take advantage of each technology’s strengths.\n",
            "\n",
            "\n",
            "\n",
            "Boas and von Lühmann are hopeful that the integration of fNIRS will help neurotechnology make the move from portable to wearable and even possibly unnoticeable. On the difference between portable and wearable, von Lühmann explains, “On the portable side you still have something chunky, but it’s not really tethered so you can wear it in a backpack, wearable goes more towards what you know from Fitbits or those more unobtrusive small devices that aim, at least in some point in the future, to provide measurements without really impacting natural behavior.”\n",
            "\n",
            "\n",
            "\n",
            "Boas and von Lühmann have developed these technologies as part of a wider plan called “Neuroimaging in the Everyday World (NEW)”. NEW aims to create an unobtrusive wearable device that would provide a multi-modality overview of what is happening in your brain at any moment in your everyday life. You could be at work, talking with a friend, or having lunch, and this device would be recording a video and audio stream of what you’re seeing and hearing while monitoring your brain activity and biosignals including EEG, fNIRS, your head movements, and your eye movements. What you see would be automatically labelled with the aid of computer vision and a cloud-based image annotation service. “It will incorporate technologies that are already out there, but so far not yet combined very well,” says von Lühmann.\n",
            "\n",
            "\n",
            "\n",
            "\n",
            "\n",
            "\n",
            "\n",
            "\n",
            "\n",
            "A demonstration of integrated neurotechnologies. Credit: Alexander von Lühmann, Boston University\n",
            "\n",
            "\n",
            "\n",
            "\n",
            "\n",
            "The combination of these technologies into a single device would open doors to neuroscience research and applications that are currently inaccessible. “You use computer vision to automatically annotate the visual stream … and you have maybe 6 hours or maybe 12 hours of brain data … maybe you had 20 people who ran around all day with this system, but now you’re interested in how the brain responds to specific activities – people go grocery shopping, buy a certain product or whatever, or see food, or interact with friends,” von Lühmann explains. “Wouldn’t it be great if you could do a context search in that continuous data and say, ‘I want all the segments in which there was personal interaction,’ and do that across a whole day and across several subjects?”\n",
            "\n",
            "\n",
            "\n",
            "von Lühmann, who has a background in BMIs, also gives perspective on how the interfaces could advance by utilizing the new wearables, as BMIs also face the challenge of working properly when taken out of the laboratory and into the real world. Recent research in neuroergonomics suggests a passive application of BMIs which could use the new wearables “to assess mental or cognitive states and use that as support for systems that give feedback to the human, like for operator work load monitoring,” explains von Lühmann. Research into this area has already begun, with studies “where basically EEG and now more and more also fNIRS have been used to assess cognitive workload in air traffic controllers, in surgeons in training, in many different areas,” says von Lühmann. “That is in a way an extension of the original understanding [of BMIs] because it is not using the signals for an active control input [e.g., to control a robotic arm or wheelchair] but rather for monitoring and adapting the system to what the operator or person within that system needs.”\n"
          ],
          "name": "stdout"
        }
      ]
    },
    {
      "cell_type": "code",
      "metadata": {
        "id": "2ApT0JuwCVXP",
        "colab_type": "code",
        "colab": {
          "base_uri": "https://localhost:8080/",
          "height": 125
        },
        "outputId": "72c7b69d-064c-4c27-8549-2f4fc16ede78"
      },
      "source": [
        "print(article.summary)"
      ],
      "execution_count": 174,
      "outputs": [
        {
          "output_type": "stream",
          "text": [
            "There’s a lot of challenges to address, not only on the instrumentation side but also on the signal processing, artifact rejection, and signal analysis part,” says von Lühmann.\n",
            "von Lühmann is tackling this challenge by integrating functional near-infrared spectroscopy (fNIRS) and electroencephalogram (EEG) into wearable equipment.\n",
            "“EEG picks up a lot of electrophysiological noise, eye movements, neck muscles, etc.,” von Lühmann explains.\n",
            "“It will incorporate technologies that are already out there, but so far not yet combined very well,” says von Lühmann.\n",
            "Credit: Alexander von Lühmann, Boston UniversityThe combination of these technologies into a single device would open doors to neuroscience research and applications that are currently inaccessible.\n"
          ],
          "name": "stdout"
        }
      ]
    },
    {
      "cell_type": "code",
      "metadata": {
        "id": "yE4p0WuMCesa",
        "colab_type": "code",
        "colab": {}
      },
      "source": [
        ""
      ],
      "execution_count": 0,
      "outputs": []
    }
  ]
}